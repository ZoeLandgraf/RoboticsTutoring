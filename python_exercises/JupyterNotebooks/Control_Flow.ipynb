{
 "cells": [
  {
   "cell_type": "markdown",
   "metadata": {},
   "source": [
    "A program is a series of instructions that you as the programmer give to the computer to execute. Without any special methods, the computer reads the program line by line:\n",
    " "
   ]
  },
  {
   "cell_type": "code",
   "execution_count": 3,
   "metadata": {},
   "outputs": [
    {
     "name": "stdout",
     "output_type": "stream",
     "text": [
      "My name is Hugo\n",
      "I am 15 years old\n"
     ]
    }
   ],
   "source": [
    "#First print your name\n",
    "print(\"My name is Hugo\")\n",
    "\n",
    "#Then print your age\n",
    "print(\"I am 15 years old\")"
   ]
  },
  {
   "cell_type": "markdown",
   "metadata": {},
   "source": [
    "As you can see, this will print the lines above in order.\n",
    "\n",
    "\n",
    "However, there are many methods which you can use as a programmer to change this flow of execution, controlling how and in which order the computer reads your program.\n",
    "\n",
    "Consider this:"
   ]
  },
  {
   "cell_type": "code",
   "execution_count": 5,
   "metadata": {},
   "outputs": [
    {
     "name": "stdout",
     "output_type": "stream",
     "text": [
      "My name is Hugo\n",
      "I am 15 years old\n"
     ]
    }
   ],
   "source": [
    "order = \"name_first\"\n",
    "\n",
    "if order == \"name_first\":\n",
    "    #First print your name\n",
    "    print(\"My name is Hugo\")\n",
    "\n",
    "    #Then print your age\n",
    "    print(\"I am 15 years old\")\n",
    "    \n",
    "elif order == \"age first\":\n",
    "    #First print your age\n",
    "    print(\"I am 15 years old\")\n",
    "    #Then print your name\n",
    "    print(\"My name is Hugo\")\n",
    "    \n",
    "else:\n",
    "    print(\"You have not specified a valid order\")"
   ]
  },
  {
   "cell_type": "markdown",
   "metadata": {},
   "source": [
    "Exercise 1: Change the above code so that it prints out the age first. You can copy and paste most of the code."
   ]
  },
  {
   "cell_type": "code",
   "execution_count": 6,
   "metadata": {
    "collapsed": true
   },
   "outputs": [],
   "source": [
    "#Exercise 1: Change the execution order of the program"
   ]
  },
  {
   "cell_type": "markdown",
   "metadata": {},
   "source": [
    "Theory Question 1: The last option in this program is often called the *default argument*. What do you think this default argument is useful for?"
   ]
  },
  {
   "cell_type": "code",
   "execution_count": 8,
   "metadata": {
    "collapsed": true
   },
   "outputs": [],
   "source": [
    "#Theory Question 1: (put your answer in comment mode: adding a # in front of every sentence)\n"
   ]
  },
  {
   "cell_type": "markdown",
   "metadata": {},
   "source": [
    "Exercise 2: The order variable used to determine which part of the program is being called is currently *hard-coded*, which means that its value is fixed once the program is written and cannot change when you execute it. Let's change this using user input. Using the **input()** function, let the user decide in which order to print the lines"
   ]
  },
  {
   "cell_type": "code",
   "execution_count": null,
   "metadata": {
    "collapsed": true
   },
   "outputs": [],
   "source": [
    "#Exercise 2: Control flow with user input"
   ]
  },
  {
   "cell_type": "markdown",
   "metadata": {},
   "source": [
    "Another method to control execution of your code are *loops*. The most commonly used loops are the **for** and the **while** loop. Here are some examples. Execute them and try to understand what each of them does"
   ]
  },
  {
   "cell_type": "code",
   "execution_count": 9,
   "metadata": {},
   "outputs": [
    {
     "name": "stdout",
     "output_type": "stream",
     "text": [
      "0\n",
      "1\n",
      "2\n"
     ]
    }
   ],
   "source": [
    "# The while loop\n",
    "\n",
    "a = 0\n",
    "while a < 3:\n",
    "    print(a)\n",
    "    a = a + 1\n"
   ]
  },
  {
   "cell_type": "markdown",
   "metadata": {},
   "source": [
    "What do you think will happen if you change the second line to *while a < 5:*?\n",
    "\n"
   ]
  },
  {
   "cell_type": "code",
   "execution_count": 10,
   "metadata": {
    "collapsed": true
   },
   "outputs": [],
   "source": [
    "#Reply: "
   ]
  },
  {
   "cell_type": "markdown",
   "metadata": {},
   "source": [
    "What do you think will happen if you now change the last line to *a = a + 2* ?"
   ]
  },
  {
   "cell_type": "code",
   "execution_count": 11,
   "metadata": {
    "collapsed": true
   },
   "outputs": [],
   "source": [
    "#Reply:"
   ]
  },
  {
   "cell_type": "markdown",
   "metadata": {},
   "source": [
    "Now, try the suggested changes in the window below and see for yourself"
   ]
  },
  {
   "cell_type": "code",
   "execution_count": null,
   "metadata": {
    "collapsed": true
   },
   "outputs": [],
   "source": [
    "# Modified while loop: "
   ]
  },
  {
   "cell_type": "markdown",
   "metadata": {},
   "source": [
    "Exercise 3: Write a while loop which sums all elements it iterates over. This means that for \n",
    "\n",
    "**while a < 3** the end result should be **0 + 1 + 2** which is 3. \n",
    "\n",
    "Hint: Start with using the proposed variables to hold the intermediate result. \n",
    "\n",
    "Then, try using only the variable *accumulated sum*. Note that you can increase a variables value like this:\n",
    "\n",
    "**b = b + 2** which adds 2 to the current value of b and saves the result in b.\n",
    "\n",
    "**b += 2** achieves the same thing but using less writing  \n",
    "\n"
   ]
  },
  {
   "cell_type": "code",
   "execution_count": 24,
   "metadata": {},
   "outputs": [
    {
     "name": "stdout",
     "output_type": "stream",
     "text": [
      "0\n"
     ]
    }
   ],
   "source": [
    "#Exercise 3:\n",
    "\n",
    "a = 0\n",
    "accumulated_sum = 0\n",
    "intermediate_sum = 0\n",
    "while a < 5:\n",
    "    #TODO \n",
    "    \n",
    "    #increase the value of a\n",
    "    a = a + 1\n",
    "    \n",
    "    \n",
    "print(accumulated_sum)"
   ]
  }
 ],
 "metadata": {
  "kernelspec": {
   "display_name": "Python 2",
   "language": "python",
   "name": "python2"
  },
  "language_info": {
   "codemirror_mode": {
    "name": "ipython",
    "version": 2
   },
   "file_extension": ".py",
   "mimetype": "text/x-python",
   "name": "python",
   "nbconvert_exporter": "python",
   "pygments_lexer": "ipython2",
   "version": "2.7.13"
  }
 },
 "nbformat": 4,
 "nbformat_minor": 2
}
