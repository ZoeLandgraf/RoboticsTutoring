{
 "cells": [
  {
   "cell_type": "markdown",
   "metadata": {},
   "source": [
    "The easiest way for your python program to communicate with you in by using the *print()* function.\n",
    "\n",
    "**print(\"Hello\")** will print the string \"Hello\" to your screen.\n",
    "\n",
    "Similarly, for you to communicate with your python program, you can use the *input()* function to send some information to your program which it can use later on.\n",
    "\n",
    "**a = input()** records any input you type into the console until you hit enter and saves it inside the variable a\n",
    "\n",
    "**a = input(\"Please give me some input\")** is an extra functionality the input function has, which also prints a message to the console. This message can be used to tell you or another user of your program what he or she should input. For example you could tell the user: \n",
    "\n",
    "**name = input(\"Please tell me your name\")**\n"
   ]
  },
  {
   "cell_type": "code",
   "execution_count": 2,
   "metadata": {
    "collapsed": true
   },
   "outputs": [],
   "source": [
    "#Exercise_1: print a sentence to\n",
    "def print_to_screen(input_to_be_printed):\n",
    "\n",
    "    #Remove this 'pass' when you are done solving this exercise. This only serves as a placeholder when the function is empty\n",
    "    pass\n",
    "    #print the content of the variable \"input_to_be_printed\" to the screen using python's print function"
   ]
  },
  {
   "cell_type": "code",
   "execution_count": 7,
   "metadata": {
    "collapsed": true
   },
   "outputs": [],
   "source": [
    "#Exercise_2: print a sentence to the screen, but add \"This is my sentence\" in front of it\n",
    "def print_to_screen_2(input_to_be_printed):\n",
    "    #Remove this 'pass' when you are done solving this exercise. This only serves as a placeholder when the function is empty\n",
    "    pass"
   ]
  },
  {
   "cell_type": "code",
   "execution_count": 14,
   "metadata": {
    "collapsed": true
   },
   "outputs": [],
   "source": [
    "def Example_input_function():\n",
    "\n",
    "    # input from keyboard is saved inside variable 'a'\n",
    "    a = input()\n",
    "    print(a)\n",
    "\n",
    "    # input from keyboard is saved inside variable 'b'\n",
    "    b = input(\"Please type the input here:\")\n",
    "    print(b)"
   ]
  },
  {
   "cell_type": "code",
   "execution_count": 3,
   "metadata": {
    "collapsed": true
   },
   "outputs": [],
   "source": [
    "#Exercise3: ask the user for his name, save it inside the variable 'name' and then print it back to the screen\n",
    "def what_is_your_name():\n",
    "\n",
    "    #Ask the user for his name and save the input in the variable 'name'\n",
    "    name = input(\"Please type your name \\n\")  # Note: the '\\n' adds a newline to the output.\n",
    "    #Print the result back to the screen"
   ]
  },
  {
   "cell_type": "code",
   "execution_count": 13,
   "metadata": {
    "collapsed": true
   },
   "outputs": [],
   "source": [
    "#Exercise4: ask the user for a number that he wants to multiply by 2 and print out the result\n",
    "def multiply_by_2():\n",
    "\n",
    "    # Ask the user to enter a number and save input in a variable called 'number'\n",
    "\n",
    "\n",
    "    # You need to check that the input is a number!\n",
    "    if not number.isdigit():\n",
    "        print(\"You did not input a number\")\n",
    "        #leave the function early\n",
    "        return\n",
    "\n",
    "    # Compute the result of multiplying the number by 2 and save it in a variable 'result'\n",
    "\n",
    "\n",
    "    # Print out the result (Maybe add a message to the user, such as: \"This is your result\")\n"
   ]
  },
  {
   "cell_type": "code",
   "execution_count": 15,
   "metadata": {},
   "outputs": [
    {
     "name": "stdout",
     "output_type": "stream",
     "text": [
      "Exercise 1: \n",
      "\n",
      "\n",
      "\n",
      "\n",
      "Exercise 2: \n",
      "\n",
      "\n",
      "\n",
      "\n",
      "Exercise 3: \n",
      "\n",
      "\n",
      "\n",
      "\n",
      "Exercise 4: \n",
      "\n"
     ]
    }
   ],
   "source": [
    "if __name__ == \"__main__\":\n",
    "\n",
    "    # Call the function that you want to test here:\n",
    "\n",
    "    # For example, to call 'print_to_screen':\n",
    "    #print_to_screen(\"This is the sentence that I want to print to the screen\")\n",
    "\n",
    "\n",
    "        # Call the function that you want to test here:\n",
    "        print(\"Exercise 1: \\n\")\n",
    "        #Call the function print_to_screen() of Exercise1 here. Dont forget to give it an input!\n",
    "\n",
    "        print(\"\\n\\n\")\n",
    "        print(\"Exercise 2: \\n\")\n",
    "        #Call the function print_to_screen2() of Exercise1 here. Dont forget to give it an input!\n",
    "\n",
    "        print(\"\\n\\n\")\n",
    "        print(\"Exercise 3: \\n\")\n",
    "        #Call the function what_is_your_name() of Exercise3 here.This function does not need an input\n",
    "        \n",
    "        print(\"\\n\\n\")\n",
    "        print(\"Exercise 4: \\n\")\n",
    "        #Call the function multiply_by_2() of Exercise4 here.This function does not need an input\n"
   ]
  }
 ],
 "metadata": {
  "kernelspec": {
   "display_name": "Python 2",
   "language": "python",
   "name": "python2"
  },
  "language_info": {
   "codemirror_mode": {
    "name": "ipython",
    "version": 2
   },
   "file_extension": ".py",
   "mimetype": "text/x-python",
   "name": "python",
   "nbconvert_exporter": "python",
   "pygments_lexer": "ipython2",
   "version": "2.7.13"
  }
 },
 "nbformat": 4,
 "nbformat_minor": 2
}
