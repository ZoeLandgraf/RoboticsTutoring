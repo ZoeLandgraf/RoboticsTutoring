{
 "cells": [
  {
   "cell_type": "markdown",
   "metadata": {},
   "source": [
    "# Homework on loops\n",
    "\n",
    "Draw an Octagon\n",
    "\n",
    "An Octagon has 8 faces and the angles between the faces are 135 degrees.\n",
    "Using a for loop, draw an Octagon with a side length of 5. You can use the functions below, but you will have to add parameters to them to draw lines of the correct length and turn the correct number of degrees. You can assume that you will start at one corner of the Octagon. \n",
    "Instead of actually drawing the octagon, for now we will print the sentences of the actions.\n"
   ]
  },
  {
   "cell_type": "code",
   "execution_count": 3,
   "metadata": {},
   "outputs": [],
   "source": [
    "#add parameters \n",
    "def draw_one_side():\n",
    "    print(\"Drawing a line of length: \")\n",
    "   \n",
    "#add parameters\n",
    "def turn_degrees():\n",
    "    print(\"Turning degrees\")\n"
   ]
  },
  {
   "cell_type": "code",
   "execution_count": null,
   "metadata": {},
   "outputs": [],
   "source": [
    "# write the for loop here."
   ]
  }
 ],
 "metadata": {
  "kernelspec": {
   "display_name": "Python 3",
   "language": "python",
   "name": "python3"
  },
  "language_info": {
   "codemirror_mode": {
    "name": "ipython",
    "version": 3
   },
   "file_extension": ".py",
   "mimetype": "text/x-python",
   "name": "python",
   "nbconvert_exporter": "python",
   "pygments_lexer": "ipython3",
   "version": "3.7.4"
  }
 },
 "nbformat": 4,
 "nbformat_minor": 2
}
