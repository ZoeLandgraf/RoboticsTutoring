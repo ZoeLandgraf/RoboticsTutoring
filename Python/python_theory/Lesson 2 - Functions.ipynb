{
 "cells": [
  {
   "cell_type": "markdown",
   "metadata": {},
   "source": [
    "# Functions\n",
    "\n",
    "A function in python is a container which does an operation using some information you provide it and returns the result\n"
   ]
  },
  {
   "cell_type": "code",
   "execution_count": 2,
   "metadata": {},
   "outputs": [],
   "source": [
    "# example of a function\n",
    "\n",
    "def addition(first_number, second_number):\n",
    "    result = first_number + second_number\n",
    "    return result\n"
   ]
  },
  {
   "cell_type": "markdown",
   "metadata": {},
   "source": [
    "What are the components of this function?\n",
    "\n",
    "### 1) Function name\n",
    "\n",
    "def <b>addition</b> (first_number, second_number):\n",
    "\n",
    "    result = first_number + second_number\n",
    "    return result\n",
    "    \n",
    "\"addition\" is the function name\n",
    "\n",
    "\n",
    "### 2) Function body\n",
    "\n",
    "   <b>result = first_number + second_number\n",
    "    return result </b>\n",
    "    \n",
    "This is the function body, essentially describing what the function does.\n",
    "\n",
    "\n",
    "### 3) Input parameters\n",
    "\n",
    "The input parameters are : <b>first_number, second_number</b> \n",
    "\n",
    "Those are two variables, which can hold any number that you would like to give them\n",
    "\n",
    "\n",
    "### 4) The return statement:\n",
    "\n",
    "<b> return </b> result\n"
   ]
  },
  {
   "cell_type": "code",
   "execution_count": 5,
   "metadata": {},
   "outputs": [],
   "source": [
    "# How do we use this function?\n",
    "\n",
    "result = addition(5,6)\n",
    "\n",
    "# Let's print the result!"
   ]
  },
  {
   "cell_type": "markdown",
   "metadata": {},
   "source": [
    "### Exercise 1: Create a function which subtracts 2 numbers"
   ]
  },
  {
   "cell_type": "code",
   "execution_count": null,
   "metadata": {},
   "outputs": [],
   "source": []
  }
 ],
 "metadata": {
  "kernelspec": {
   "display_name": "Python 3",
   "language": "python",
   "name": "python3"
  },
  "language_info": {
   "codemirror_mode": {
    "name": "ipython",
    "version": 3
   },
   "file_extension": ".py",
   "mimetype": "text/x-python",
   "name": "python",
   "nbconvert_exporter": "python",
   "pygments_lexer": "ipython3",
   "version": "3.7.3"
  }
 },
 "nbformat": 4,
 "nbformat_minor": 2
}
