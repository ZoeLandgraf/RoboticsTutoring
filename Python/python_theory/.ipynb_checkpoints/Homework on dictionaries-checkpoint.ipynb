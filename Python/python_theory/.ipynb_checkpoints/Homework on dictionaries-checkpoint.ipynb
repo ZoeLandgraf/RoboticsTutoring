{
 "cells": [
  {
   "cell_type": "markdown",
   "metadata": {},
   "source": [
    "## Dictionary practice\n"
   ]
  },
  {
   "cell_type": "code",
   "execution_count": 1,
   "metadata": {},
   "outputs": [],
   "source": [
    "# Remember, a dictionary is a datastructure which looks like the following:\n",
    "\n",
    "dictionary_of_people = {\"Dorothy\": 23,\n",
    "                        \"Peter\": 15,\n",
    "                        \"Susan\": 10}\n",
    "\n",
    "# The values to the left are the KEYS which each map to one VALUE."
   ]
  },
  {
   "cell_type": "markdown",
   "metadata": {},
   "source": [
    "### Exercise 1"
   ]
  },
  {
   "cell_type": "markdown",
   "metadata": {},
   "source": [
    "Create a dictionary which maps countries to their capitals. \n",
    "These are the examples you should put into the dictionary:  \n",
    "\n",
    "Spain: Madrid\n",
    "\n",
    "France: Paris\n",
    "\n",
    "Italy: Rome\n",
    "\n",
    "United Kingdom: London"
   ]
  },
  {
   "cell_type": "markdown",
   "metadata": {},
   "source": [
    "Create your own dictionary called \"dictionary_of_capitals\" which holds these examples\n",
    "\n",
    "Note: Both the country and the capital will be a string, so the pair will look like:\n",
    "\n",
    "\"City\" : \"Capital\""
   ]
  },
  {
   "cell_type": "code",
   "execution_count": null,
   "metadata": {},
   "outputs": [],
   "source": [
    "# Create the dictionary here"
   ]
  },
  {
   "cell_type": "markdown",
   "metadata": {},
   "source": [
    "### Exercise 2"
   ]
  },
  {
   "cell_type": "markdown",
   "metadata": {},
   "source": [
    "Access your two favourite countries from the dictionary and print their capitals using the print function"
   ]
  },
  {
   "cell_type": "code",
   "execution_count": null,
   "metadata": {},
   "outputs": [],
   "source": [
    "# Access the elements and print them here"
   ]
  }
 ],
 "metadata": {
  "kernelspec": {
   "display_name": "Python 3",
   "language": "python",
   "name": "python3"
  },
  "language_info": {
   "codemirror_mode": {
    "name": "ipython",
    "version": 3
   },
   "file_extension": ".py",
   "mimetype": "text/x-python",
   "name": "python",
   "nbconvert_exporter": "python",
   "pygments_lexer": "ipython3",
   "version": "3.7.3"
  }
 },
 "nbformat": 4,
 "nbformat_minor": 2
}
