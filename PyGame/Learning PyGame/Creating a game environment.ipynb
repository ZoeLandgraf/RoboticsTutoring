{
 "cells": [
  {
   "cell_type": "markdown",
   "metadata": {},
   "source": [
    "Let's create the game environment. What I mean by that is creating a little window like the one shown in the image below which will constitute our game background"
   ]
  },
  {
   "cell_type": "markdown",
   "metadata": {},
   "source": [
    "<img src=\"images/game_env_.png\" width=\"600\" height=\"420\">"
   ]
  },
  {
   "cell_type": "code",
   "execution_count": 9,
   "metadata": {},
   "outputs": [
    {
     "data": {
      "text/plain": [
       "(6, 0)"
      ]
     },
     "execution_count": 9,
     "metadata": {},
     "output_type": "execute_result"
    }
   ],
   "source": [
    "import pygame\n",
    "pygame.init()"
   ]
  },
  {
   "cell_type": "markdown",
   "metadata": {},
   "source": [
    "# Making the environment class"
   ]
  },
  {
   "cell_type": "code",
   "execution_count": 10,
   "metadata": {},
   "outputs": [],
   "source": [
    "class Environment:\n",
    "\n",
    "    def __init__(self, wHeight= 600, wWidth=800):\n",
    "        # display width and height\n",
    "        self.windowWidth = wWidth\n",
    "        self.windowHeight = wHeight\n",
    "\n",
    "        # appearance\n",
    "        self.display_surf = pygame.display.set_mode((self.windowWidth, self.windowHeight), pygame.HWSURFACE)\n",
    "        pygame.display.set_caption('Game name')\n",
    "\n",
    "        self.font = pygame.font.Font(None, 30)"
   ]
  },
  {
   "cell_type": "markdown",
   "metadata": {},
   "source": [
    "### What's a class?\n",
    "\n",
    "A class is a container which holds variables and functions. The variables and functions which belong to a class are called\n",
    "\n",
    "<b> member variables</b> and <b> member functions </b>"
   ]
  },
  {
   "cell_type": "markdown",
   "metadata": {},
   "source": [
    "### What's the '__ init__()' function?\n",
    "\n",
    "The init function of a class initialized all the functions and variables of the class"
   ]
  },
  {
   "cell_type": "markdown",
   "metadata": {},
   "source": [
    "### What's the keyword 'self' ?\n",
    "\n",
    "self is specific to classes in pyhton and serves as a keyword. \n",
    "It is used as the first parameter of every function and in front of every member variable. There is more to it but for now let's just remember those two things. Notice how and where in the class above 'self' is used?"
   ]
  },
  {
   "cell_type": "markdown",
   "metadata": {},
   "source": [
    "### What is the content of this Environment class? \n",
    "\n",
    "We initialize the Environment to have 3 member variables: A width and a height of the display (This determines the width and height of the game window that will appear). The third member variable is a pygame surface. This determines the type of surface we will have to create our environment. For now we do not need to know more. \n",
    "We also set a caption of our surface, which for now we call \"Game name\" since our game doesn't have a name yet.\n"
   ]
  },
  {
   "cell_type": "code",
   "execution_count": 11,
   "metadata": {},
   "outputs": [],
   "source": [
    "# Using the class\n",
    "\n",
    "environment = Environment()"
   ]
  },
  {
   "cell_type": "markdown",
   "metadata": {},
   "source": [
    "## Writing the rendering function\n",
    "\n",
    "The rendering function is what will ultimately display our game window. The first rendering function we will write will be very simple and just display a square of a specific color with a caption"
   ]
  },
  {
   "cell_type": "code",
   "execution_count": 13,
   "metadata": {},
   "outputs": [],
   "source": [
    "colors = { \"red\" : (255,0,0),\n",
    "           \"green\" : (0,255,0)\n",
    "         }"
   ]
  },
  {
   "cell_type": "code",
   "execution_count": 15,
   "metadata": {},
   "outputs": [],
   "source": [
    "class Environment:\n",
    "\n",
    "    def __init__(self, wHeight= 600, wWidth=800):\n",
    "        # display width and height\n",
    "        self.windowWidth = wWidth\n",
    "        self.windowHeight = wHeight\n",
    "\n",
    "        # appearance of the game window display\n",
    "        self.display_surface = pygame.display.set_mode((self.windowWidth, self.windowHeight), pygame.HWSURFACE)\n",
    "        pygame.display.set_caption('Game name')\n",
    "\n",
    "\n",
    "    def render(self):\n",
    "        self.display_surf.fill(colors[\"green\"])\n",
    "        pygame.display.update()"
   ]
  },
  {
   "cell_type": "markdown",
   "metadata": {},
   "source": [
    "### Writing the main function to run the game\n",
    "\n",
    "In order to run the game we need a main function. This is the function which determined the main action of the program (The main instructions on how to run the program. Here is how our main function will look like: "
   ]
  },
  {
   "cell_type": "code",
   "execution_count": 16,
   "metadata": {},
   "outputs": [],
   "source": [
    "def main():\n",
    "    \n",
    "    pygame.init()\n",
    "\n",
    "    env = Environment()\n",
    "\n",
    "    running = True\n",
    "\n",
    "    while running:\n",
    "\n",
    "        env.render()\n",
    "\n",
    "        for event in pygame.event.get():\n",
    "            if event.type == pygame.QUIT:\n",
    "                running = False\n",
    "\n",
    "\n",
    "    pygame.display.quit()\n",
    "    pygame.quit()"
   ]
  },
  {
   "cell_type": "markdown",
   "metadata": {},
   "source": [
    "### Why do we need a while loop? \n",
    "\n",
    "The while loop is required because we want to \"render\" game and its content over and over again until we quit the game. Rendering just means drawing something onto our computer display."
   ]
  },
  {
   "cell_type": "code",
   "execution_count": 17,
   "metadata": {},
   "outputs": [],
   "source": [
    "# Running the main function\n",
    "\n",
    "main()"
   ]
  }
 ],
 "metadata": {
  "kernelspec": {
   "display_name": "Python 3",
   "language": "python",
   "name": "python3"
  },
  "language_info": {
   "codemirror_mode": {
    "name": "ipython",
    "version": 3
   },
   "file_extension": ".py",
   "mimetype": "text/x-python",
   "name": "python",
   "nbconvert_exporter": "python",
   "pygments_lexer": "ipython3",
   "version": "3.7.3"
  }
 },
 "nbformat": 4,
 "nbformat_minor": 2
}
